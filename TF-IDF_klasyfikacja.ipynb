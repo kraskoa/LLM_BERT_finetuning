{
 "cells": [
  {
   "cell_type": "markdown",
   "id": "cd732786",
   "metadata": {},
   "source": [
    "# Projekt LLM 25L - Klasyfikacja tekstu na wybranym zbiorze danych poprzez ekstrakcję cech metodą TF-IDF i wytrenowanie (własnego?) klasyfikatora"
   ]
  },
  {
   "cell_type": "markdown",
   "id": "116f91ea",
   "metadata": {},
   "source": [
    "## Adam Kraś 325177"
   ]
  },
  {
   "cell_type": "code",
   "execution_count": 9,
   "id": "a70b1056",
   "metadata": {},
   "outputs": [],
   "source": [
    "import torch\n",
    "import datasets\n",
    "from sklearn.feature_extraction.text import TfidfVectorizer"
   ]
  },
  {
   "cell_type": "code",
   "execution_count": 2,
   "id": "db3c35cd",
   "metadata": {},
   "outputs": [
    {
     "data": {
      "text/plain": [
       "device(type='cuda')"
      ]
     },
     "execution_count": 2,
     "metadata": {},
     "output_type": "execute_result"
    }
   ],
   "source": [
    "device = torch.device(\"cuda\" if torch.cuda.is_available() else \"cpu\")\n",
    "device"
   ]
  },
  {
   "cell_type": "code",
   "execution_count": 3,
   "id": "cc41a78b",
   "metadata": {},
   "outputs": [
    {
     "name": "stdout",
     "output_type": "stream",
     "text": [
      "Mon May 26 15:13:31 2025       \n",
      "+-----------------------------------------------------------------------------------------+\n",
      "| NVIDIA-SMI 570.133.20             Driver Version: 570.133.20     CUDA Version: 12.8     |\n",
      "|-----------------------------------------+------------------------+----------------------+\n",
      "| GPU  Name                 Persistence-M | Bus-Id          Disp.A | Volatile Uncorr. ECC |\n",
      "| Fan  Temp   Perf          Pwr:Usage/Cap |           Memory-Usage | GPU-Util  Compute M. |\n",
      "|                                         |                        |               MIG M. |\n",
      "|=========================================+========================+======================|\n",
      "|   0  NVIDIA GeForce RTX 4060 ...    Off |   00000000:01:00.0 Off |                  N/A |\n",
      "| N/A   51C    P0             21W /   55W |    1127MiB /   8188MiB |      0%      Default |\n",
      "|                                         |                        |                  N/A |\n",
      "+-----------------------------------------+------------------------+----------------------+\n",
      "                                                                                         \n",
      "+-----------------------------------------------------------------------------------------+\n",
      "| Processes:                                                                              |\n",
      "|  GPU   GI   CI              PID   Type   Process name                        GPU Memory |\n",
      "|        ID   ID                                                               Usage      |\n",
      "|=========================================================================================|\n",
      "|    0   N/A  N/A            1835      G   /usr/lib/xorg/Xorg                      396MiB |\n",
      "|    0   N/A  N/A            4313      G   cinnamon                                 59MiB |\n",
      "|    0   N/A  N/A            5355      G   ...ess --variations-seed-version         77MiB |\n",
      "|    0   N/A  N/A            5508      G   /usr/lib/firefox/firefox                162MiB |\n",
      "|    0   N/A  N/A            5674      G   ...ess --variations-seed-version        219MiB |\n",
      "|    0   N/A  N/A            6409      G   ...ams-for-linux/teams-for-linux        136MiB |\n",
      "+-----------------------------------------------------------------------------------------+\n"
     ]
    }
   ],
   "source": [
    "!nvidia-smi"
   ]
  },
  {
   "cell_type": "code",
   "execution_count": 5,
   "id": "63fa6707",
   "metadata": {},
   "outputs": [],
   "source": [
    "# Wczytanie wybranego zbioru danych\n",
    "dataset = datasets.load_dataset(\"community-datasets/yahoo_answers_topics\")"
   ]
  },
  {
   "cell_type": "code",
   "execution_count": 6,
   "id": "24a468a8",
   "metadata": {},
   "outputs": [
    {
     "data": {
      "text/plain": [
       "{'id': 420,\n",
       " 'topic': 4,\n",
       " 'question_title': 'Who invented the mouse?',\n",
       " 'question_content': '',\n",
       " 'best_answer': 'According to the bible, it was God.\\\\nAccording to Darwin, it was natural evolution.\\\\nMany others will convince you that it was Steve Jobs and Apple.\\\\n\\\\nThe answer, according to http://www.superkids.com/aweb/pages/features/mouse/mouse.html, is Doug Engelbart.\\\\n\\\\n(which I found via this Yahoo! Search http://myweb2.search.yahoo.com/search?p=who+invented+the+mouse.)'}"
      ]
     },
     "execution_count": 6,
     "metadata": {},
     "output_type": "execute_result"
    }
   ],
   "source": [
    "dataset[\"train\"][420]  # Wyświetlenie przykładu z zestawu danych"
   ]
  },
  {
   "cell_type": "markdown",
   "id": "bc4ecf95",
   "metadata": {},
   "source": [
    "### Analiza zbioru danych została przeprowadzona przed dostrajaniem modelu [BERT](BERT_klasyfikacja.ipynb), tutaj jedynie załaduję zbiór danych w identyczny sposób"
   ]
  },
  {
   "cell_type": "code",
   "execution_count": 7,
   "id": "ce8638cb",
   "metadata": {},
   "outputs": [
    {
     "name": "stdout",
     "output_type": "stream",
     "text": [
      "Dataset size: 50000\n",
      "Train dataset size: 80.00%\n",
      "Test dataset size: 10.00%\n",
      "Validation dataset size: 10.00%\n"
     ]
    }
   ],
   "source": [
    "train_dataset = dataset[\"train\"]\n",
    "\n",
    "dataset_size = 50000\n",
    "\n",
    "reduced_train = train_dataset.train_test_split(\n",
    "    train_size=dataset_size,\n",
    "    test_size=dataset_size // 5,\n",
    "    stratify_by_column=\"topic\",\n",
    "    shuffle=True,\n",
    "    seed=42\n",
    ")[\"train\"]\n",
    "\n",
    "train_dataset = reduced_train\n",
    "\n",
    "full_split = train_dataset.train_test_split(test_size=0.2, seed=42)\n",
    "val_test_split = full_split[\"test\"].train_test_split(test_size=0.5, seed=42)\n",
    "\n",
    "train_dataset = full_split[\"train\"]\n",
    "val_dataset = val_test_split[\"train\"]\n",
    "test_dataset = val_test_split[\"test\"]\n",
    "\n",
    "# Sprawdzenie rozmiarów zbiorów danych po podziale\n",
    "print(f\"Dataset size: {len(train_dataset) + len(test_dataset) + len(val_dataset)}\")\n",
    "print(f\"Train dataset size: {len(train_dataset) / (len(train_dataset) + len(test_dataset) + len(val_dataset)) * 100:.2f}%\")\n",
    "print(f\"Test dataset size: {len(test_dataset) / (len(train_dataset) + len(test_dataset) + len(val_dataset)) * 100:.2f}%\")\n",
    "print(f\"Validation dataset size: {len(val_dataset) / (len(train_dataset) + len(test_dataset) + len(val_dataset)) * 100:.2f}%\")"
   ]
  },
  {
   "cell_type": "code",
   "execution_count": 12,
   "id": "1b678866",
   "metadata": {},
   "outputs": [],
   "source": [
    "def join_text(example):\n",
    "    return example[\"question_title\"] + \" \" + example[\"question_content\"]\n",
    "\n",
    "# Extracting text and labels separately\n",
    "train_texts = [join_text(example) for example in train_dataset]\n",
    "test_texts = [join_text(example) for example in test_dataset]\n",
    "val_texts = [join_text(example) for example in val_dataset]\n",
    "\n",
    "train_labels = [example[\"topic\"] for example in train_dataset]\n",
    "val_labels = [example[\"topic\"] for example in val_dataset]\n",
    "test_labels = [example[\"topic\"] for example in test_dataset]"
   ]
  },
  {
   "cell_type": "code",
   "execution_count": 34,
   "id": "16d03c14",
   "metadata": {},
   "outputs": [],
   "source": [
    "vocab_size = 50000\n",
    "\n",
    "vectorizer = TfidfVectorizer(\n",
    "    max_features=vocab_size,\n",
    "    ngram_range=(1, 2),\n",
    "    stop_words='english',\n",
    "    min_df=2,\n",
    "    max_df=0.9,\n",
    ")"
   ]
  },
  {
   "cell_type": "code",
   "execution_count": 35,
   "id": "6604d188",
   "metadata": {},
   "outputs": [],
   "source": [
    "train_tfidf_texts = vectorizer.fit_transform(train_texts)\n",
    "val_tfidf_texts = vectorizer.transform(val_texts)\n",
    "test_tfidf_texts = vectorizer.transform(test_texts)"
   ]
  },
  {
   "cell_type": "code",
   "execution_count": 36,
   "id": "55a141cf",
   "metadata": {},
   "outputs": [
    {
     "name": "stdout",
     "output_type": "stream",
     "text": [
      "50000\n"
     ]
    }
   ],
   "source": [
    "print(len(vectorizer.vocabulary_))"
   ]
  }
 ],
 "metadata": {
  "kernelspec": {
   "display_name": ".venv",
   "language": "python",
   "name": "python3"
  },
  "language_info": {
   "codemirror_mode": {
    "name": "ipython",
    "version": 3
   },
   "file_extension": ".py",
   "mimetype": "text/x-python",
   "name": "python",
   "nbconvert_exporter": "python",
   "pygments_lexer": "ipython3",
   "version": "3.10.15"
  }
 },
 "nbformat": 4,
 "nbformat_minor": 5
}
