{
 "cells": [
  {
   "cell_type": "markdown",
   "id": "05b15c52",
   "metadata": {},
   "source": [
    "# Projekt LLM 25L - Klasyfkacja tekstu na wybranym zbiorze danych"
   ]
  },
  {
   "cell_type": "markdown",
   "id": "50627f2f",
   "metadata": {},
   "source": [
    "## Adam Kraś 325177"
   ]
  },
  {
   "cell_type": "code",
   "execution_count": 1,
   "id": "f70c8901",
   "metadata": {},
   "outputs": [],
   "source": [
    "import torch\n",
    "import torch.nn as nn\n",
    "import datasets\n",
    "import evaluate\n",
    "import numpy as np\n",
    "from collections import Counter\n",
    "import matplotlib.pyplot as plt\n",
    "import transformers\n",
    "from transformers import (\n",
    "    AutoTokenizer,\n",
    "    AutoModelForCausalLM,\n",
    "    BitsAndBytesConfig,\n",
    "    AutoModelForSequenceClassification,\n",
    "    Trainer,\n",
    "    TrainingArguments,\n",
    "    DataCollatorWithPadding,\n",
    ")\n",
    "from sklearn.metrics import accuracy_score, classification_report, confusion_matrix\n"
   ]
  },
  {
   "cell_type": "code",
   "execution_count": 2,
   "id": "587f7f34",
   "metadata": {},
   "outputs": [
    {
     "data": {
      "text/plain": [
       "device(type='cuda')"
      ]
     },
     "execution_count": 2,
     "metadata": {},
     "output_type": "execute_result"
    }
   ],
   "source": [
    "device = torch.device(\"cuda\" if torch.cuda.is_available() else \"cpu\")\n",
    "device"
   ]
  },
  {
   "cell_type": "code",
   "execution_count": 3,
   "id": "64e9c513",
   "metadata": {},
   "outputs": [
    {
     "name": "stdout",
     "output_type": "stream",
     "text": [
      "Fri May 23 13:00:18 2025       \n",
      "+-----------------------------------------------------------------------------------------+\n",
      "| NVIDIA-SMI 570.133.20             Driver Version: 570.133.20     CUDA Version: 12.8     |\n",
      "|-----------------------------------------+------------------------+----------------------+\n",
      "| GPU  Name                 Persistence-M | Bus-Id          Disp.A | Volatile Uncorr. ECC |\n",
      "| Fan  Temp   Perf          Pwr:Usage/Cap |           Memory-Usage | GPU-Util  Compute M. |\n",
      "|                                         |                        |               MIG M. |\n",
      "|=========================================+========================+======================|\n",
      "|   0  NVIDIA GeForce RTX 4060 ...    Off |   00000000:01:00.0 Off |                  N/A |\n",
      "| N/A   41C    P8              3W /   55W |      18MiB /   8188MiB |      0%      Default |\n",
      "|                                         |                        |                  N/A |\n",
      "+-----------------------------------------+------------------------+----------------------+\n",
      "                                                                                         \n",
      "+-----------------------------------------------------------------------------------------+\n",
      "| Processes:                                                                              |\n",
      "|  GPU   GI   CI              PID   Type   Process name                        GPU Memory |\n",
      "|        ID   ID                                                               Usage      |\n",
      "|=========================================================================================|\n",
      "|    0   N/A  N/A            1736      G   /usr/lib/xorg/Xorg                        4MiB |\n",
      "+-----------------------------------------------------------------------------------------+\n"
     ]
    }
   ],
   "source": [
    "!nvidia-smi"
   ]
  },
  {
   "cell_type": "code",
   "execution_count": 27,
   "id": "d76c598b",
   "metadata": {},
   "outputs": [],
   "source": [
    "# Wczytanie wybranego zbioru danych\n",
    "dataset = datasets.load_dataset(\"community-datasets/yahoo_answers_topics\")"
   ]
  },
  {
   "cell_type": "code",
   "execution_count": 28,
   "id": "2f3bb068",
   "metadata": {},
   "outputs": [
    {
     "data": {
      "text/plain": [
       "{'id': 42,\n",
       " 'topic': 6,\n",
       " 'question_title': 'When will Google buy Yahoo?',\n",
       " 'question_content': 'The two businesses are very complementary in terms of strengths and weaknesses. Do we want to beat ourselves up competing with each other for resources and market share, or unite to beat MSFT?',\n",
       " 'best_answer': \"Their respective market caps are too close for this to ever happen.\\\\nInterestingly, many reporters, analysts and tech pundits that I talk to think that the supposed competition between Google and Yahoo is fallacious, and that they are very different companies with very different strategies. Google's true competitor is often seen as being Microsoft, not Yahoo. This would support your claim that they are complementary.\"}"
      ]
     },
     "execution_count": 28,
     "metadata": {},
     "output_type": "execute_result"
    }
   ],
   "source": [
    "dataset[\"train\"][42]  # Wyświetlenie przykładu z zestawu danych"
   ]
  },
  {
   "cell_type": "code",
   "execution_count": 29,
   "id": "24d9a990",
   "metadata": {},
   "outputs": [
    {
     "name": "stdout",
     "output_type": "stream",
     "text": [
      "Computers & Internet: 140000\n",
      "Sports: 140000\n",
      "Health: 140000\n",
      "Business & Finance: 140000\n",
      "Science & Mathematics: 140000\n",
      "Entertainment & Music: 140000\n",
      "Education & Reference: 140000\n",
      "Family & Relationships: 140000\n",
      "Politics & Government: 140000\n",
      "Society & Culture: 140000\n"
     ]
    },
    {
     "data": {
      "image/png": "[encoded data removed]",
      "text/plain": [
       "<Figure size 640x480 with 1 Axes>"
      ]
     },
     "metadata": {},
     "output_type": "display_data"
    }
   ],
   "source": [
    "labels = dataset[\"train\"][\"topic\"]\n",
    "label_counts = Counter(labels)\n",
    "label_names = dataset[\"train\"].features[\"topic\"].names\n",
    "\n",
    "for label_id, count in label_counts.items():\n",
    "    print(f\"{label_names[label_id]}: {count}\")\n",
    "\n",
    "labels_text = [label_names[i] for i in label_counts.keys()]\n",
    "counts = list(label_counts.values())\n",
    "\n",
    "plt.bar(labels_text, counts)\n",
    "plt.xticks(rotation=90)\n",
    "plt.title(\"Class Distribution\")\n",
    "plt.xlabel(\"Class\")\n",
    "plt.ylabel(\"Count\")\n",
    "plt.show()\n"
   ]
  },
  {
   "cell_type": "code",
   "execution_count": 30,
   "id": "630b1898",
   "metadata": {},
   "outputs": [
    {
     "name": "stdout",
     "output_type": "stream",
     "text": [
      "Dataset size: 1460000\n",
      "Train dataset size: 95.89%\n",
      "Test dataset size: 4.11%\n"
     ]
    }
   ],
   "source": [
    "train_dataset = dataset[\"train\"]\n",
    "test_dataset = dataset[\"test\"]\n",
    "\n",
    "# Porównanie rozmiarów zbiorów danych treningowego i testowego\n",
    "print(f\"Dataset size: {len(train_dataset) + len(test_dataset)}\")\n",
    "print(f\"Train dataset size: {len(train_dataset) / (len(train_dataset) + len(test_dataset)) * 100:.2f}%\")\n",
    "print(f\"Test dataset size: {len(test_dataset) / (len(train_dataset) + len(test_dataset)) * 100:.2f}%\")"
   ]
  },
  {
   "cell_type": "markdown",
   "id": "17407cc3",
   "metadata": {},
   "source": [
    "Jak widzimy, stosunek rozmiarów zbioru treningowego i testowego są dalekie od idealnych. Ponadto, nie ma zbioru walidaycjnego. Zróbmy coś z tym.\n",
    "\n",
    "Jednakże, przed podzieleniem zbioru danych na nowo, przetestujemy różne zredukowane jego rozmiarym, gdyż prawie 1,5 miliona elementów to zddecydowanie więcej niż wynosi optymalny pod względem obliczeniowym i efektywnościowym rozmiar zbioru do klasyfikacji 10-klasowej."
   ]
  },
  {
   "cell_type": "code",
   "execution_count": 31,
   "id": "530cc122",
   "metadata": {},
   "outputs": [],
   "source": [
    "dataset_size = 20000\n",
    "\n",
    "reduced_train = train_dataset.train_test_split(\n",
    "    train_size=dataset_size,\n",
    "    test_size=dataset_size // 5,\n",
    "    stratify_by_column=\"topic\",\n",
    "    shuffle=True,\n",
    "    seed=42\n",
    ")[\"train\"]\n",
    "\n",
    "train_dataset = reduced_train"
   ]
  },
  {
   "cell_type": "markdown",
   "id": "4d1159bb",
   "metadata": {},
   "source": [
    "Potwierdźmy czy balans klas został zachowany po zmniejszeniu rozmiaru zbioru danych"
   ]
  },
  {
   "cell_type": "code",
   "execution_count": 32,
   "id": "a673403a",
   "metadata": {},
   "outputs": [
    {
     "name": "stdout",
     "output_type": "stream",
     "text": [
      "Society & Culture: 2000\n",
      "Health: 2000\n",
      "Family & Relationships: 2000\n",
      "Sports: 2000\n",
      "Business & Finance: 2000\n",
      "Computers & Internet: 2000\n",
      "Education & Reference: 2000\n",
      "Politics & Government: 2000\n",
      "Entertainment & Music: 2000\n",
      "Science & Mathematics: 2000\n"
     ]
    },
    {
     "data": {
      "image/png": "[encoded data removed]",
      "text/plain": [
       "<Figure size 640x480 with 1 Axes>"
      ]
     },
     "metadata": {},
     "output_type": "display_data"
    }
   ],
   "source": [
    "labels = train_dataset[\"topic\"]\n",
    "label_counts = Counter(labels)\n",
    "label_names = train_dataset.features[\"topic\"].names\n",
    "\n",
    "for label_id, count in label_counts.items():\n",
    "    print(f\"{label_names[label_id]}: {count}\")\n",
    "\n",
    "labels_text = [label_names[i] for i in label_counts.keys()]\n",
    "counts = list(label_counts.values())\n",
    "\n",
    "plt.bar(labels_text, counts)\n",
    "plt.xticks(rotation=90)\n",
    "plt.title(\"Class Distribution\")\n",
    "plt.xlabel(\"Class\")\n",
    "plt.ylabel(\"Count\")\n",
    "plt.show()"
   ]
  },
  {
   "cell_type": "code",
   "execution_count": 33,
   "id": "68d78001",
   "metadata": {},
   "outputs": [
    {
     "name": "stdout",
     "output_type": "stream",
     "text": [
      "Dataset size: 20000\n",
      "Train dataset size: 80.00%\n",
      "Test dataset size: 10.00%\n",
      "Validation dataset size: 10.00%\n"
     ]
    }
   ],
   "source": [
    "full_split = train_dataset.train_test_split(test_size=0.2, seed=42)\n",
    "val_test_split = full_split[\"test\"].train_test_split(test_size=0.5, seed=42)\n",
    "\n",
    "train_dataset = full_split[\"train\"]\n",
    "val_dataset = val_test_split[\"train\"]\n",
    "test_dataset = val_test_split[\"test\"]\n",
    "\n",
    "# Sprawdzenie rozmiarów zbiorów danych po podziale\n",
    "print(f\"Dataset size: {len(train_dataset) + len(test_dataset) + len(val_dataset)}\")\n",
    "print(f\"Train dataset size: {len(train_dataset) / (len(train_dataset) + len(test_dataset) + len(val_dataset)) * 100:.2f}%\")\n",
    "print(f\"Test dataset size: {len(test_dataset) / (len(train_dataset) + len(test_dataset) + len(val_dataset)) * 100:.2f}%\")\n",
    "print(f\"Validation dataset size: {len(val_dataset) / (len(train_dataset) + len(test_dataset) + len(val_dataset)) * 100:.2f}%\")"
   ]
  },
  {
   "cell_type": "code",
   "execution_count": 34,
   "id": "371bff51",
   "metadata": {},
   "outputs": [
    {
     "name": "stderr",
     "output_type": "stream",
     "text": [
      "Some weights of BertForSequenceClassification were not initialized from the model checkpoint at google-bert/bert-base-uncased and are newly initialized: ['classifier.bias', 'classifier.weight']\n",
      "You should probably TRAIN this model on a down-stream task to be able to use it for predictions and inference.\n"
     ]
    }
   ],
   "source": [
    "# Przygotowanie modelu\n",
    "q_config = BitsAndBytesConfig(load_in_8bit=True)\n",
    "\n",
    "base_model_id = \"google-bert/bert-base-uncased\"\n",
    "\n",
    "# model = AutoModelForCausalLM.from_pretrained(\n",
    "#     base_model_id,\n",
    "#     quantization_config=q_config,\n",
    "#     torch_dtype=torch.float16,\n",
    "#     trust_remote_code=True,\n",
    "# )\n",
    "\n",
    "model = AutoModelForSequenceClassification.from_pretrained(\n",
    "    base_model_id,\n",
    "    num_labels=10,\n",
    "    # torch_dtype=torch.float16,\n",
    "    id2label={i: label_names[i] for i in range(10)},\n",
    "    label2id={label_names[i]: i for i in range(10)},\n",
    ")"
   ]
  },
  {
   "cell_type": "code",
   "execution_count": 35,
   "id": "00759bb8",
   "metadata": {},
   "outputs": [
    {
     "name": "stdout",
     "output_type": "stream",
     "text": [
      "BertForSequenceClassification(\n",
      "  (bert): BertModel(\n",
      "    (embeddings): BertEmbeddings(\n",
      "      (word_embeddings): Embedding(30522, 768, padding_idx=0)\n",
      "      (position_embeddings): Embedding(512, 768)\n",
      "      (token_type_embeddings): Embedding(2, 768)\n",
      "      (LayerNorm): LayerNorm((768,), eps=1e-12, elementwise_affine=True)\n",
      "      (dropout): Dropout(p=0.1, inplace=False)\n",
      "    )\n",
      "    (encoder): BertEncoder(\n",
      "      (layer): ModuleList(\n",
      "        (0-11): 12 x BertLayer(\n",
      "          (attention): BertAttention(\n",
      "            (self): BertSdpaSelfAttention(\n",
      "              (query): Linear(in_features=768, out_features=768, bias=True)\n",
      "              (key): Linear(in_features=768, out_features=768, bias=True)\n",
      "              (value): Linear(in_features=768, out_features=768, bias=True)\n",
      "              (dropout): Dropout(p=0.1, inplace=False)\n",
      "            )\n",
      "            (output): BertSelfOutput(\n",
      "              (dense): Linear(in_features=768, out_features=768, bias=True)\n",
      "              (LayerNorm): LayerNorm((768,), eps=1e-12, elementwise_affine=True)\n",
      "              (dropout): Dropout(p=0.1, inplace=False)\n",
      "            )\n",
      "          )\n",
      "          (intermediate): BertIntermediate(\n",
      "            (dense): Linear(in_features=768, out_features=3072, bias=True)\n",
      "            (intermediate_act_fn): GELUActivation()\n",
      "          )\n",
      "          (output): BertOutput(\n",
      "            (dense): Linear(in_features=3072, out_features=768, bias=True)\n",
      "            (LayerNorm): LayerNorm((768,), eps=1e-12, elementwise_affine=True)\n",
      "            (dropout): Dropout(p=0.1, inplace=False)\n",
      "          )\n",
      "        )\n",
      "      )\n",
      "    )\n",
      "    (pooler): BertPooler(\n",
      "      (dense): Linear(in_features=768, out_features=768, bias=True)\n",
      "      (activation): Tanh()\n",
      "    )\n",
      "  )\n",
      "  (dropout): Dropout(p=0.1, inplace=False)\n",
      "  (classifier): Linear(in_features=768, out_features=10, bias=True)\n",
      ")\n",
      "\n",
      "\n",
      "Zajętość pamięci przez model: 0.408GB\n"
     ]
    }
   ],
   "source": [
    "print(model)\n",
    "\n",
    "print(f\"\\n\\nZajętość pamięci przez model: {model.get_memory_footprint() / 1024**3:0.3f}GB\")"
   ]
  },
  {
   "cell_type": "code",
   "execution_count": 36,
   "id": "7922d952",
   "metadata": {},
   "outputs": [
    {
     "name": "stdout",
     "output_type": "stream",
     "text": [
      "Rozmiar słownika: 30522\n"
     ]
    }
   ],
   "source": [
    "tokenizer = AutoTokenizer.from_pretrained(base_model_id)\n",
    "\n",
    "if tokenizer.pad_token is None:\n",
    "    tokenizer.pad_token = tokenizer.eos_token\n",
    "\n",
    "model.pad_token_id = tokenizer.pad_token_id\n",
    "print(f\"Rozmiar słownika: {tokenizer.vocab_size}\")"
   ]
  },
  {
   "cell_type": "code",
   "execution_count": 37,
   "id": "1f3f2866",
   "metadata": {},
   "outputs": [],
   "source": [
    "data_collator = DataCollatorWithPadding(tokenizer=tokenizer)"
   ]
  },
  {
   "cell_type": "code",
   "execution_count": 13,
   "id": "247982c5",
   "metadata": {},
   "outputs": [],
   "source": [
    "# Sprawdzenie długości tokenów w zbiorze danych\n",
    "# print(f\"Maksymalna obsługiwana długość: {tokenizer.model_max_length}\")\n",
    "\n",
    "# def get_token_length(example):\n",
    "#     text = example[\"question_title\"] + \" \" + example[\"question_content\"]\n",
    "#     return len(tokenizer.encode(text, truncation=False))\n",
    "\n",
    "# lengths = [get_token_length(example) for example in train_dataset]\n",
    "\n",
    "# import numpy as np\n",
    "\n",
    "# print(\"Średnia długość:\", np.mean(lengths))\n",
    "# print(\"Mediana:\", np.median(lengths))\n",
    "# print(\"Max:\", np.max(lengths))\n",
    "# print(\"Powyżej limitu:\", sum(l > tokenizer.model_max_length for l in lengths))"
   ]
  },
  {
   "cell_type": "markdown",
   "id": "deefd171",
   "metadata": {},
   "source": [
    "Jak widzimy, tylko jeden przykład w całym zbiorze danych przekracza maksymalną obsługiwaną przez model długość tekstu. W takim przypadku najprostszym rozwiązaniem będzie ustawienie flagi truncation na True w tokenizatorze."
   ]
  },
  {
   "cell_type": "code",
   "execution_count": 38,
   "id": "51bde2ca",
   "metadata": {},
   "outputs": [
    {
     "data": {
      "application/vnd.jupyter.widget-view+json": {
       "model_id": "5e0a06a494b846b9b416763748990a0f",
       "version_major": 2,
       "version_minor": 0
      },
      "text/plain": [
       "Map:   0%|          | 0/16000 [00:00<?, ? examples/s]"
      ]
     },
     "metadata": {},
     "output_type": "display_data"
    },
    {
     "data": {
      "application/vnd.jupyter.widget-view+json": {
       "model_id": "3eb70f5d643f48f8bc4465310debd69a",
       "version_major": 2,
       "version_minor": 0
      },
      "text/plain": [
       "Map:   0%|          | 0/2000 [00:00<?, ? examples/s]"
      ]
     },
     "metadata": {},
     "output_type": "display_data"
    },
    {
     "data": {
      "application/vnd.jupyter.widget-view+json": {
       "model_id": "85558fd2049b4abe9e18e52b936902f1",
       "version_major": 2,
       "version_minor": 0
      },
      "text/plain": [
       "Map:   0%|          | 0/2000 [00:00<?, ? examples/s]"
      ]
     },
     "metadata": {},
     "output_type": "display_data"
    },
    {
     "name": "stdout",
     "output_type": "stream",
     "text": [
      "Tokenizacja zakończona\n"
     ]
    }
   ],
   "source": [
    "# Tokenizacja danych\n",
    "def preprocess(example):\n",
    "    texts = [title + \" \" + content for title, content in zip(example[\"question_title\"], example[\"question_content\"])]\n",
    "    return tokenizer(texts, truncation=True, padding=\"max_length\", max_length=512)\n",
    "\n",
    "# def preprocess(example):\n",
    "#     texts = [content for content in example[\"question_content\"]]\n",
    "#     return tokenizer(texts, truncation=True, padding=\"max_length\", max_length=512)\n",
    "\n",
    "\n",
    "tokenized_train = train_dataset.map(preprocess, batched=True)\n",
    "tokenized_val = val_dataset.map(preprocess, batched=True)\n",
    "tokenized_test = test_dataset.map(preprocess, batched=True)\n",
    "\n",
    "print(\"Tokenizacja zakończona\")"
   ]
  },
  {
   "cell_type": "code",
   "execution_count": 39,
   "id": "d29d90c3",
   "metadata": {},
   "outputs": [
    {
     "data": {
      "application/vnd.jupyter.widget-view+json": {
       "model_id": "0305078be12d4eedacdee9b60512b00c",
       "version_major": 2,
       "version_minor": 0
      },
      "text/plain": [
       "Map:   0%|          | 0/16000 [00:00<?, ? examples/s]"
      ]
     },
     "metadata": {},
     "output_type": "display_data"
    },
    {
     "data": {
      "application/vnd.jupyter.widget-view+json": {
       "model_id": "ca4ea9cbf244467eac05db420b6e4c76",
       "version_major": 2,
       "version_minor": 0
      },
      "text/plain": [
       "Map:   0%|          | 0/2000 [00:00<?, ? examples/s]"
      ]
     },
     "metadata": {},
     "output_type": "display_data"
    },
    {
     "data": {
      "application/vnd.jupyter.widget-view+json": {
       "model_id": "e926a9d978e64b28bdcbdb4eee2e3807",
       "version_major": 2,
       "version_minor": 0
      },
      "text/plain": [
       "Map:   0%|          | 0/2000 [00:00<?, ? examples/s]"
      ]
     },
     "metadata": {},
     "output_type": "display_data"
    },
    {
     "name": "stdout",
     "output_type": "stream",
     "text": [
      "Dodawanie etykiet zakończone\n"
     ]
    }
   ],
   "source": [
    "# Dodanie kolumny 'labels' do tokenizowanych zbiorów danych\n",
    "def add_labels(example):\n",
    "    example[\"labels\"] = example[\"topic\"]\n",
    "    return example\n",
    "\n",
    "tokenized_train = tokenized_train.map(add_labels, batched=True)\n",
    "tokenized_val = tokenized_val.map(add_labels, batched=True)\n",
    "tokenized_test = tokenized_test.map(add_labels, batched=True)\n",
    "print(\"Dodawanie etykiet zakończone\")"
   ]
  },
  {
   "cell_type": "code",
   "execution_count": 40,
   "id": "9e28d2e5",
   "metadata": {},
   "outputs": [
    {
     "data": {
      "text/plain": [
       "dict_keys(['id', 'topic', 'question_title', 'question_content', 'best_answer', 'input_ids', 'token_type_ids', 'attention_mask', 'labels'])"
      ]
     },
     "execution_count": 40,
     "metadata": {},
     "output_type": "execute_result"
    }
   ],
   "source": [
    "tokenized_train[0].keys()  # Sprawdzenie kluczy w tokenizowanym zbiorze danych"
   ]
  },
  {
   "cell_type": "code",
   "execution_count": 17,
   "id": "8378310b",
   "metadata": {},
   "outputs": [],
   "source": [
    "# class PhiClassifier(nn.Module):\n",
    "#     def __init__(self, model_name, num_labels):\n",
    "#         super().__init__()\n",
    "#         self.backbone = AutoModelForSequenceClassification.from_pretrained(model_name, 10)\n",
    "#         self.dropout = nn.Dropout(0.1)\n",
    "#         self.classifier = nn.Linear(self.backbone.config.hidden_size, num_labels)\n",
    "\n",
    "#     def forward(self, input_ids, attention_mask):\n",
    "#         outputs = self.backbone(input_ids=input_ids, attention_mask=attention_mask)\n",
    "#         hidden_state = outputs.last_hidden_state[:, 0, :]\n",
    "#         logits = self.classifier(self.dropout(hidden_state))\n",
    "#         return logits"
   ]
  },
  {
   "cell_type": "code",
   "execution_count": 41,
   "id": "ec054a79",
   "metadata": {},
   "outputs": [],
   "source": [
    "training_args = TrainingArguments(\n",
    "    output_dir=\"./results\",\n",
    "    logging_dir=\"./logs\",\n",
    "    eval_strategy=\"epoch\",\n",
    "    save_strategy=\"epoch\",\n",
    "    logging_strategy=\"epoch\",\n",
    "    per_device_train_batch_size=32,\n",
    "    per_device_eval_batch_size=32,\n",
    "    learning_rate=1e-5,\n",
    "    weight_decay=0.01,\n",
    "    num_train_epochs=5,\n",
    "    save_total_limit=2,\n",
    "    load_best_model_at_end=True,\n",
    "    metric_for_best_model=\"accuracy\",\n",
    "    fp16=True,\n",
    ")"
   ]
  },
  {
   "cell_type": "code",
   "execution_count": 42,
   "id": "10a3c8b6",
   "metadata": {},
   "outputs": [],
   "source": [
    "accuracy = evaluate.load(\"accuracy\")\n",
    "\n",
    "# def compute_metrics(eval_pred):\n",
    "#     logits, labels = eval_pred\n",
    "#     preds = np.argmax(logits, axis=1)\n",
    "#     acc = accuracy_score(labels, preds)\n",
    "#     return {\"accuracy\": acc}\n",
    "\n",
    "def compute_metrics(eval_pred):\n",
    "    predictions, labels = eval_pred\n",
    "    predictions = np.argmax(predictions, axis=1)\n",
    "    return accuracy.compute(predictions=predictions, references=labels)"
   ]
  },
  {
   "cell_type": "markdown",
   "id": "8e1f9633",
   "metadata": {},
   "source": [
    "Przed treningiem zamrozimy również wszystkie parametry modelu nie odpowiadające za klasyfikację. W ten sposób trening będzie szybszy i skorzystamy z \"czystego\" dotrenowywania modelu bez zmieniania go w całości. Warstwy poolingowe również zostały odmrożone. Sumarycznie zatem dotrenujemy 4 ostatnie warstwy modelu."
   ]
  },
  {
   "cell_type": "code",
   "execution_count": 43,
   "id": "1605daf3",
   "metadata": {},
   "outputs": [],
   "source": [
    "# for name, param in model.base_model.named_parameters():\n",
    "#     param.requires_grad = False if \"pooler\" not in name else True\n",
    "\n",
    "# full fine-tuning\n",
    "# for param in model.base_model.parameters():\n",
    "#     param.requires_grad = True\n",
    "\n",
    "for name, param in model.base_model.named_parameters():\n",
    "    if any(f\"encoder.layer.{i}.\" in name for i in range(0, 7)):\n",
    "        param.requires_grad = False"
   ]
  },
  {
   "cell_type": "code",
   "execution_count": 44,
   "id": "d8702288",
   "metadata": {},
   "outputs": [],
   "source": [
    "# model = PhiClassifier(base_model_id, num_labels=10).to(device)\n",
    "\n",
    "trainer = Trainer(\n",
    "    model=model,\n",
    "    args=training_args,\n",
    "    train_dataset=tokenized_train,\n",
    "    eval_dataset=tokenized_val,\n",
    "    processing_class=tokenizer,\n",
    "    data_collator=data_collator,\n",
    "    compute_metrics=compute_metrics,\n",
    ")"
   ]
  },
  {
   "cell_type": "code",
   "execution_count": 45,
   "id": "92258ec9",
   "metadata": {},
   "outputs": [
    {
     "data": {
      "text/html": [
       "\n",
       "    <div>\n",
       "      \n",
       "      <progress value='2500' max='2500' style='width:300px; height:20px; vertical-align: middle;'></progress>\n",
       "      [2500/2500 28:42, Epoch 5/5]\n",
       "    </div>\n",
       "    <table border=\"1\" class=\"dataframe\">\n",
       "  <thead>\n",
       " <tr style=\"text-align: left;\">\n",
       "      <th>Epoch</th>\n",
       "      <th>Training Loss</th>\n",
       "      <th>Validation Loss</th>\n",
       "      <th>Accuracy</th>\n",
       "    </tr>\n",
       "  </thead>\n",
       "  <tbody>\n",
       "    <tr>\n",
       "      <td>1</td>\n",
       "      <td>1.486600</td>\n",
       "      <td>0.946365</td>\n",
       "      <td>0.717500</td>\n",
       "    </tr>\n",
       "    <tr>\n",
       "      <td>2</td>\n",
       "      <td>0.939600</td>\n",
       "      <td>0.891762</td>\n",
       "      <td>0.727500</td>\n",
       "    </tr>\n",
       "    <tr>\n",
       "      <td>3</td>\n",
       "      <td>0.849600</td>\n",
       "      <td>0.862723</td>\n",
       "      <td>0.731000</td>\n",
       "    </tr>\n",
       "    <tr>\n",
       "      <td>4</td>\n",
       "      <td>0.798600</td>\n",
       "      <td>0.859711</td>\n",
       "      <td>0.730000</td>\n",
       "    </tr>\n",
       "    <tr>\n",
       "      <td>5</td>\n",
       "      <td>0.769000</td>\n",
       "      <td>0.857970</td>\n",
       "      <td>0.733000</td>\n",
       "    </tr>\n",
       "  </tbody>\n",
       "</table><p>"
      ],
      "text/plain": [
       "<IPython.core.display.HTML object>"
      ]
     },
     "metadata": {},
     "output_type": "display_data"
    },
    {
     "data": {
      "text/plain": [
       "TrainOutput(global_step=2500, training_loss=0.9686754638671875, metrics={'train_runtime': 1722.7645, 'train_samples_per_second': 46.437, 'train_steps_per_second': 1.451, 'total_flos': 2.105039634432e+16, 'train_loss': 0.9686754638671875, 'epoch': 5.0})"
      ]
     },
     "execution_count": 45,
     "metadata": {},
     "output_type": "execute_result"
    }
   ],
   "source": [
    "trainer.train()"
   ]
  },
  {
   "cell_type": "markdown",
   "id": "cbe1116e",
   "metadata": {},
   "source": [
    "Teraz sprawdxmy osiągniętą dokładność na zbiorze testowym."
   ]
  },
  {
   "cell_type": "code",
   "execution_count": 46,
   "id": "4da207c5",
   "metadata": {},
   "outputs": [
    {
     "data": {
      "text/html": [
       "\n",
       "    <div>\n",
       "      \n",
       "      <progress value='63' max='63' style='width:300px; height:20px; vertical-align: middle;'></progress>\n",
       "      [63/63 00:13]\n",
       "    </div>\n",
       "    "
      ],
      "text/plain": [
       "<IPython.core.display.HTML object>"
      ]
     },
     "metadata": {},
     "output_type": "display_data"
    },
    {
     "name": "stdout",
     "output_type": "stream",
     "text": [
      "Test accuracy: 0.7180\n"
     ]
    }
   ],
   "source": [
    "metrics = trainer.evaluate(tokenized_test)\n",
    "print(f\"Test accuracy: {metrics['eval_accuracy']:.4f}\")"
   ]
  },
  {
   "cell_type": "code",
   "execution_count": 47,
   "id": "e088507e",
   "metadata": {},
   "outputs": [],
   "source": [
    "trainer.save_model(\"bert-20-6frozen\")"
   ]
  }
 ],
 "metadata": {
  "kernelspec": {
   "display_name": ".venv",
   "language": "python",
   "name": "python3"
  },
  "language_info": {
   "codemirror_mode": {
    "name": "ipython",
    "version": 3
   },
   "file_extension": ".py",
   "mimetype": "text/x-python",
   "name": "python",
   "nbconvert_exporter": "python",
   "pygments_lexer": "ipython3",
   "version": "3.10.15"
  }
 },
 "nbformat": 4,
 "nbformat_minor": 5
}
