{
 "cells": [
  {
   "cell_type": "markdown",
   "id": "05b15c52",
   "metadata": {},
   "source": [
    "# Projekt LLM 25L - Klasyfikacja tekstu na wybranym zbiorze danych poprzez dostrojenie modelu klasy tylko-koder"
   ]
  },
  {
   "cell_type": "markdown",
   "id": "50627f2f",
   "metadata": {},
   "source": [
    "## Adam Kraś 325177"
   ]
  },
  {
   "cell_type": "code",
   "execution_count": 3,
   "id": "f70c8901",
   "metadata": {},
   "outputs": [],
   "source": [
    "import torch\n",
    "import torch.nn as nn\n",
    "import datasets\n",
    "import evaluate\n",
    "import numpy as np\n",
    "from collections import Counter\n",
    "import matplotlib.pyplot as plt\n",
    "import transformers\n",
    "from transformers import (\n",
    "    AutoTokenizer,\n",
    "    AutoModelForCausalLM,\n",
    "    BitsAndBytesConfig,\n",
    "    AutoModelForSequenceClassification,\n",
    "    Trainer,\n",
    "    TrainingArguments,\n",
    "    DataCollatorWithPadding,\n",
    "    EarlyStoppingCallback,\n",
    ")\n",
    "from sklearn.metrics import (\n",
    "    accuracy_score,\n",
    "    classification_report,\n",
    "    confusion_matrix,\n",
    "    ConfusionMatrixDisplay,\n",
    ")\n"
   ]
  },
  {
   "cell_type": "code",
   "execution_count": 5,
   "id": "587f7f34",
   "metadata": {},
   "outputs": [
    {
     "data": {
      "text/plain": [
       "device(type='cuda')"
      ]
     },
     "execution_count": 5,
     "metadata": {},
     "output_type": "execute_result"
    }
   ],
   "source": [
    "device = torch.device(\"cuda\" if torch.cuda.is_available() else \"cpu\")\n",
    "device"
   ]
  },
  {
   "cell_type": "code",
   "execution_count": 6,
   "id": "64e9c513",
   "metadata": {},
   "outputs": [
    {
     "name": "stdout",
     "output_type": "stream",
     "text": [
      "Fri May 30 23:41:46 2025       \n",
      "+-----------------------------------------------------------------------------------------+\n",
      "| NVIDIA-SMI 570.148.08             Driver Version: 570.148.08     CUDA Version: 12.8     |\n",
      "|-----------------------------------------+------------------------+----------------------+\n",
      "| GPU  Name                 Persistence-M | Bus-Id          Disp.A | Volatile Uncorr. ECC |\n",
      "| Fan  Temp   Perf          Pwr:Usage/Cap |           Memory-Usage | GPU-Util  Compute M. |\n",
      "|                                         |                        |               MIG M. |\n",
      "|=========================================+========================+======================|\n",
      "|   0  NVIDIA GeForce RTX 4060 ...    Off |   00000000:01:00.0 Off |                  N/A |\n",
      "| N/A   36C    P8              2W /   55W |       3MiB /   8188MiB |      0%      Default |\n",
      "|                                         |                        |                  N/A |\n",
      "+-----------------------------------------+------------------------+----------------------+\n",
      "                                                                                         \n",
      "+-----------------------------------------------------------------------------------------+\n",
      "| Processes:                                                                              |\n",
      "|  GPU   GI   CI              PID   Type   Process name                        GPU Memory |\n",
      "|        ID   ID                                                               Usage      |\n",
      "|=========================================================================================|\n",
      "|  No running processes found                                                             |\n",
      "+-----------------------------------------------------------------------------------------+\n"
     ]
    }
   ],
   "source": [
    "!nvidia-smi"
   ]
  },
  {
   "cell_type": "code",
   "execution_count": 4,
   "id": "d76c598b",
   "metadata": {},
   "outputs": [],
   "source": [
    "# Wczytanie wybranego zbioru danych\n",
    "dataset = datasets.load_dataset(\"community-datasets/yahoo_answers_topics\")"
   ]
  },
  {
   "cell_type": "code",
   "execution_count": 5,
   "id": "2f3bb068",
   "metadata": {},
   "outputs": [
    {
     "data": {
      "text/plain": [
       "{'id': 420,\n",
       " 'topic': 4,\n",
       " 'question_title': 'Who invented the mouse?',\n",
       " 'question_content': '',\n",
       " 'best_answer': 'According to the bible, it was God.\\\\nAccording to Darwin, it was natural evolution.\\\\nMany others will convince you that it was Steve Jobs and Apple.\\\\n\\\\nThe answer, according to http://www.superkids.com/aweb/pages/features/mouse/mouse.html, is Doug Engelbart.\\\\n\\\\n(which I found via this Yahoo! Search http://myweb2.search.yahoo.com/search?p=who+invented+the+mouse.)'}"
      ]
     },
     "execution_count": 5,
     "metadata": {},
     "output_type": "execute_result"
    }
   ],
   "source": [
    "dataset[\"train\"][420]  # Wyświetlenie przykładu z zestawu danych"
   ]
  },
  {
   "cell_type": "code",
   "execution_count": 6,
   "id": "24d9a990",
   "metadata": {},
   "outputs": [
    {
     "name": "stdout",
     "output_type": "stream",
     "text": [
      "Computers & Internet: 140000\n",
      "Sports: 140000\n",
      "Health: 140000\n",
      "Business & Finance: 140000\n",
      "Science & Mathematics: 140000\n",
      "Entertainment & Music: 140000\n",
      "Education & Reference: 140000\n",
      "Family & Relationships: 140000\n",
      "Politics & Government: 140000\n",
      "Society & Culture: 140000\n"
     ]
    },
    {
     "data": {
      "image/png": "[encoded data removed]",
      "text/plain": [
       "<Figure size 640x480 with 1 Axes>"
      ]
     },
     "metadata": {},
     "output_type": "display_data"
    }
   ],
   "source": [
    "labels = dataset[\"train\"][\"topic\"]\n",
    "label_counts = Counter(labels)\n",
    "label_names = dataset[\"train\"].features[\"topic\"].names\n",
    "\n",
    "for label_id, count in label_counts.items():\n",
    "    print(f\"{label_names[label_id]}: {count}\")\n",
    "\n",
    "labels_text = [label_names[i] for i in label_counts.keys()]\n",
    "counts = list(label_counts.values())\n",
    "\n",
    "plt.bar(labels_text, counts)\n",
    "plt.xticks(rotation=90)\n",
    "plt.title(\"Class Distribution\")\n",
    "plt.xlabel(\"Class\")\n",
    "plt.ylabel(\"Count\")\n",
    "plt.show()\n"
   ]
  },
  {
   "cell_type": "code",
   "execution_count": 7,
   "id": "630b1898",
   "metadata": {},
   "outputs": [
    {
     "name": "stdout",
     "output_type": "stream",
     "text": [
      "Dataset size: 1460000\n",
      "Train dataset size: 95.89%\n",
      "Test dataset size: 4.11%\n"
     ]
    }
   ],
   "source": [
    "train_dataset = dataset[\"train\"]\n",
    "test_dataset = dataset[\"test\"]\n",
    "\n",
    "# Porównanie rozmiarów zbiorów danych treningowego i testowego\n",
    "print(f\"Dataset size: {len(train_dataset) + len(test_dataset)}\")\n",
    "print(f\"Train dataset size: {len(train_dataset) / (len(train_dataset) + len(test_dataset)) * 100:.2f}%\")\n",
    "print(f\"Test dataset size: {len(test_dataset) / (len(train_dataset) + len(test_dataset)) * 100:.2f}%\")"
   ]
  },
  {
   "cell_type": "markdown",
   "id": "17407cc3",
   "metadata": {},
   "source": [
    "Jak widzimy, stosunek rozmiarów zbioru treningowego i testowego są dalekie od idealnych. Ponadto, nie ma zbioru walidaycjnego. Zróbmy coś z tym.\n",
    "\n",
    "Jednakże, przed podzieleniem zbioru danych na nowo, przetestujemy różne zredukowane jego rozmiary, gdyż prawie 1,5 miliona elementów to zdecydowanie więcej niż wynosi optymalny pod względem obliczeniowym i efektywnościowym rozmiar zbioru do klasyfikacji 10-klasowej dla wybranego przeze mnie modelu."
   ]
  },
  {
   "cell_type": "code",
   "execution_count": null,
   "id": "530cc122",
   "metadata": {},
   "outputs": [],
   "source": [
    "# dataset_size = 500000\n",
    "\n",
    "# reduced_train = train_dataset.train_test_split(\n",
    "#     train_size=dataset_size,\n",
    "#     test_size=dataset_size // 5,\n",
    "#     stratify_by_column=\"topic\",\n",
    "#     shuffle=True,\n",
    "#     seed=42\n",
    "# )[\"train\"]\n",
    "\n",
    "# train_dataset = reduced_train"
   ]
  },
  {
   "cell_type": "markdown",
   "id": "4d1159bb",
   "metadata": {},
   "source": [
    "Potwierdźmy czy balans klas został zachowany po zmniejszeniu rozmiaru zbioru danych"
   ]
  },
  {
   "cell_type": "code",
   "execution_count": 9,
   "id": "a673403a",
   "metadata": {},
   "outputs": [
    {
     "name": "stdout",
     "output_type": "stream",
     "text": [
      "Society & Culture: 50000\n",
      "Education & Reference: 50000\n",
      "Entertainment & Music: 50000\n",
      "Sports: 50000\n",
      "Health: 50000\n",
      "Science & Mathematics: 50000\n",
      "Family & Relationships: 50000\n",
      "Business & Finance: 50000\n",
      "Computers & Internet: 50000\n",
      "Politics & Government: 50000\n"
     ]
    },
    {
     "data": {
      "image/png": "[encoded data removed]",
      "text/plain": [
       "<Figure size 640x480 with 1 Axes>"
      ]
     },
     "metadata": {},
     "output_type": "display_data"
    }
   ],
   "source": [
    "labels = train_dataset[\"topic\"]\n",
    "label_counts = Counter(labels)\n",
    "label_names = train_dataset.features[\"topic\"].names\n",
    "\n",
    "for label_id, count in label_counts.items():\n",
    "    print(f\"{label_names[label_id]}: {count}\")\n",
    "\n",
    "labels_text = [label_names[i] for i in label_counts.keys()]\n",
    "counts = list(label_counts.values())\n",
    "\n",
    "plt.bar(labels_text, counts)\n",
    "plt.xticks(rotation=90)\n",
    "plt.title(\"Class Distribution\")\n",
    "plt.xlabel(\"Class\")\n",
    "plt.ylabel(\"Count\")\n",
    "plt.show()"
   ]
  },
  {
   "cell_type": "code",
   "execution_count": 8,
   "id": "68d78001",
   "metadata": {},
   "outputs": [
    {
     "name": "stdout",
     "output_type": "stream",
     "text": [
      "Dataset size: 1400000\n",
      "Train dataset size: 80.00%\n",
      "Test dataset size: 10.00%\n",
      "Validation dataset size: 10.00%\n"
     ]
    }
   ],
   "source": [
    "full_split = train_dataset.train_test_split(test_size=0.2, seed=42)\n",
    "val_test_split = full_split[\"test\"].train_test_split(test_size=0.5, seed=42)\n",
    "\n",
    "train_dataset = full_split[\"train\"]\n",
    "val_dataset = val_test_split[\"train\"]\n",
    "test_dataset = val_test_split[\"test\"]\n",
    "\n",
    "# Sprawdzenie rozmiarów zbiorów danych po podziale\n",
    "print(f\"Dataset size: {len(train_dataset) + len(test_dataset) + len(val_dataset)}\")\n",
    "print(f\"Train dataset size: {len(train_dataset) / (len(train_dataset) + len(test_dataset) + len(val_dataset)) * 100:.2f}%\")\n",
    "print(f\"Test dataset size: {len(test_dataset) / (len(train_dataset) + len(test_dataset) + len(val_dataset)) * 100:.2f}%\")\n",
    "print(f\"Validation dataset size: {len(val_dataset) / (len(train_dataset) + len(test_dataset) + len(val_dataset)) * 100:.2f}%\")"
   ]
  },
  {
   "cell_type": "code",
   "execution_count": 9,
   "id": "371bff51",
   "metadata": {},
   "outputs": [
    {
     "name": "stderr",
     "output_type": "stream",
     "text": [
      "Some weights of BertForSequenceClassification were not initialized from the model checkpoint at google-bert/bert-base-uncased and are newly initialized: ['classifier.bias', 'classifier.weight']\n",
      "You should probably TRAIN this model on a down-stream task to be able to use it for predictions and inference.\n"
     ]
    }
   ],
   "source": [
    "# Przygotowanie modelu\n",
    "# q_config = BitsAndBytesConfig(load_in_8bit=True)\n",
    "\n",
    "base_model_id = \"google-bert/bert-base-uncased\"\n",
    "\n",
    "model = AutoModelForSequenceClassification.from_pretrained(\n",
    "    base_model_id,\n",
    "    num_labels=10,\n",
    "    id2label={i: label_names[i] for i in range(10)},\n",
    "    label2id={label_names[i]: i for i in range(10)},\n",
    ")"
   ]
  },
  {
   "cell_type": "code",
   "execution_count": 10,
   "id": "00759bb8",
   "metadata": {},
   "outputs": [
    {
     "name": "stdout",
     "output_type": "stream",
     "text": [
      "BertForSequenceClassification(\n",
      "  (bert): BertModel(\n",
      "    (embeddings): BertEmbeddings(\n",
      "      (word_embeddings): Embedding(30522, 768, padding_idx=0)\n",
      "      (position_embeddings): Embedding(512, 768)\n",
      "      (token_type_embeddings): Embedding(2, 768)\n",
      "      (LayerNorm): LayerNorm((768,), eps=1e-12, elementwise_affine=True)\n",
      "      (dropout): Dropout(p=0.1, inplace=False)\n",
      "    )\n",
      "    (encoder): BertEncoder(\n",
      "      (layer): ModuleList(\n",
      "        (0-11): 12 x BertLayer(\n",
      "          (attention): BertAttention(\n",
      "            (self): BertSdpaSelfAttention(\n",
      "              (query): Linear(in_features=768, out_features=768, bias=True)\n",
      "              (key): Linear(in_features=768, out_features=768, bias=True)\n",
      "              (value): Linear(in_features=768, out_features=768, bias=True)\n",
      "              (dropout): Dropout(p=0.1, inplace=False)\n",
      "            )\n",
      "            (output): BertSelfOutput(\n",
      "              (dense): Linear(in_features=768, out_features=768, bias=True)\n",
      "              (LayerNorm): LayerNorm((768,), eps=1e-12, elementwise_affine=True)\n",
      "              (dropout): Dropout(p=0.1, inplace=False)\n",
      "            )\n",
      "          )\n",
      "          (intermediate): BertIntermediate(\n",
      "            (dense): Linear(in_features=768, out_features=3072, bias=True)\n",
      "            (intermediate_act_fn): GELUActivation()\n",
      "          )\n",
      "          (output): BertOutput(\n",
      "            (dense): Linear(in_features=3072, out_features=768, bias=True)\n",
      "            (LayerNorm): LayerNorm((768,), eps=1e-12, elementwise_affine=True)\n",
      "            (dropout): Dropout(p=0.1, inplace=False)\n",
      "          )\n",
      "        )\n",
      "      )\n",
      "    )\n",
      "    (pooler): BertPooler(\n",
      "      (dense): Linear(in_features=768, out_features=768, bias=True)\n",
      "      (activation): Tanh()\n",
      "    )\n",
      "  )\n",
      "  (dropout): Dropout(p=0.1, inplace=False)\n",
      "  (classifier): Linear(in_features=768, out_features=10, bias=True)\n",
      ")\n",
      "\n",
      "\n",
      "Zajętość pamięci przez model: 0.408GB\n"
     ]
    }
   ],
   "source": [
    "print(model)\n",
    "\n",
    "print(f\"\\n\\nZajętość pamięci przez model: {model.get_memory_footprint() / 1024**3:0.3f}GB\")"
   ]
  },
  {
   "cell_type": "code",
   "execution_count": 11,
   "id": "7922d952",
   "metadata": {},
   "outputs": [
    {
     "name": "stdout",
     "output_type": "stream",
     "text": [
      "Rozmiar słownika: 30522\n"
     ]
    }
   ],
   "source": [
    "tokenizer = AutoTokenizer.from_pretrained(base_model_id)\n",
    "\n",
    "if tokenizer.pad_token is None:\n",
    "    tokenizer.pad_token = tokenizer.eos_token\n",
    "\n",
    "model.pad_token_id = tokenizer.pad_token_id\n",
    "print(f\"Rozmiar słownika: {tokenizer.vocab_size}\")"
   ]
  },
  {
   "cell_type": "code",
   "execution_count": 12,
   "id": "1f3f2866",
   "metadata": {},
   "outputs": [],
   "source": [
    "data_collator = DataCollatorWithPadding(tokenizer=tokenizer)"
   ]
  },
  {
   "cell_type": "code",
   "execution_count": 22,
   "id": "247982c5",
   "metadata": {},
   "outputs": [],
   "source": [
    "# # Sprawdzenie długości tokenów w zbiorze danych\n",
    "# print(f\"Maksymalna obsługiwana długość: {tokenizer.model_max_length}\")\n",
    "\n",
    "# def get_token_length(example):\n",
    "#     text = example[\"question_title\"] + \" \" + example[\"question_content\"]\n",
    "#     return len(tokenizer.encode(text, truncation=False))\n",
    "\n",
    "# lengths = [get_token_length(example) for example in train_dataset]\n",
    "\n",
    "# import numpy as np\n",
    "\n",
    "# print(\"Średnia długość:\", np.mean(lengths))\n",
    "# print(\"Mediana:\", np.median(lengths))\n",
    "# print(\"Max:\", np.max(lengths))\n",
    "# print(\"Powyżej limitu:\", sum(l > tokenizer.model_max_length for l in lengths))"
   ]
  },
  {
   "cell_type": "markdown",
   "id": "deefd171",
   "metadata": {},
   "source": [
    "Jak widzimy, tylko jeden przykład w całym zbiorze danych przekracza maksymalną obsługiwaną przez model długość tekstu. W takim przypadku najprostszym rozwiązaniem będzie ustawienie flagi truncation na True w tokenizatorze."
   ]
  },
  {
   "cell_type": "code",
   "execution_count": 13,
   "id": "51bde2ca",
   "metadata": {},
   "outputs": [
    {
     "data": {
      "application/vnd.jupyter.widget-view+json": {
       "model_id": "47504f3579d94a9787ebb66effb450e6",
       "version_major": 2,
       "version_minor": 0
      },
      "text/plain": [
       "Map:   0%|          | 0/1120000 [00:00<?, ? examples/s]"
      ]
     },
     "metadata": {},
     "output_type": "display_data"
    },
    {
     "data": {
      "application/vnd.jupyter.widget-view+json": {
       "model_id": "895377fed6c44720bcea7addfd0e6d36",
       "version_major": 2,
       "version_minor": 0
      },
      "text/plain": [
       "Map:   0%|          | 0/140000 [00:00<?, ? examples/s]"
      ]
     },
     "metadata": {},
     "output_type": "display_data"
    },
    {
     "data": {
      "application/vnd.jupyter.widget-view+json": {
       "model_id": "d0b081adec004684bb00b72e7562483b",
       "version_major": 2,
       "version_minor": 0
      },
      "text/plain": [
       "Map:   0%|          | 0/140000 [00:00<?, ? examples/s]"
      ]
     },
     "metadata": {},
     "output_type": "display_data"
    },
    {
     "name": "stdout",
     "output_type": "stream",
     "text": [
      "Tokenizacja zakończona\n"
     ]
    }
   ],
   "source": [
    "# Tokenizacja danych\n",
    "def preprocess(example):\n",
    "    texts = [title + \" \" + content for title, content in zip(example[\"question_title\"], example[\"question_content\"])]\n",
    "    return tokenizer(texts, truncation=True, padding=\"max_length\", max_length=128)\n",
    "\n",
    "tokenized_train = train_dataset.map(preprocess, batched=True)\n",
    "tokenized_val = val_dataset.map(preprocess, batched=True)\n",
    "tokenized_test = test_dataset.map(preprocess, batched=True)\n",
    "\n",
    "print(\"Tokenizacja zakończona\")"
   ]
  },
  {
   "cell_type": "code",
   "execution_count": 14,
   "id": "d29d90c3",
   "metadata": {},
   "outputs": [
    {
     "data": {
      "application/vnd.jupyter.widget-view+json": {
       "model_id": "8a49a4c1d3274e99b2a842427a1c1efc",
       "version_major": 2,
       "version_minor": 0
      },
      "text/plain": [
       "Map:   0%|          | 0/1120000 [00:00<?, ? examples/s]"
      ]
     },
     "metadata": {},
     "output_type": "display_data"
    },
    {
     "data": {
      "application/vnd.jupyter.widget-view+json": {
       "model_id": "c28d5521eea94790ac435074dff89dad",
       "version_major": 2,
       "version_minor": 0
      },
      "text/plain": [
       "Map:   0%|          | 0/140000 [00:00<?, ? examples/s]"
      ]
     },
     "metadata": {},
     "output_type": "display_data"
    },
    {
     "data": {
      "application/vnd.jupyter.widget-view+json": {
       "model_id": "e6b14b3b1fab4ce490dfce7062b08910",
       "version_major": 2,
       "version_minor": 0
      },
      "text/plain": [
       "Map:   0%|          | 0/140000 [00:00<?, ? examples/s]"
      ]
     },
     "metadata": {},
     "output_type": "display_data"
    },
    {
     "name": "stdout",
     "output_type": "stream",
     "text": [
      "Dodawanie etykiet zakończone\n"
     ]
    }
   ],
   "source": [
    "# Dodanie kolumny 'labels' do tokenizowanych zbiorów danych\n",
    "def add_labels(example):\n",
    "    example[\"labels\"] = example[\"topic\"]\n",
    "    return example\n",
    "\n",
    "tokenized_train = tokenized_train.map(add_labels, batched=True)\n",
    "tokenized_val = tokenized_val.map(add_labels, batched=True)\n",
    "tokenized_test = tokenized_test.map(add_labels, batched=True)\n",
    "print(\"Dodawanie etykiet zakończone\")"
   ]
  },
  {
   "cell_type": "code",
   "execution_count": 15,
   "id": "9e28d2e5",
   "metadata": {},
   "outputs": [
    {
     "data": {
      "text/plain": [
       "dict_keys(['id', 'topic', 'question_title', 'question_content', 'best_answer', 'input_ids', 'token_type_ids', 'attention_mask', 'labels'])"
      ]
     },
     "execution_count": 15,
     "metadata": {},
     "output_type": "execute_result"
    }
   ],
   "source": [
    "tokenized_train[0].keys()  # Sprawdzenie kluczy w tokenizowanym zbiorze danych"
   ]
  },
  {
   "cell_type": "code",
   "execution_count": 16,
   "id": "ec054a79",
   "metadata": {},
   "outputs": [],
   "source": [
    "training_args = TrainingArguments(\n",
    "    output_dir=\"./results\",\n",
    "    logging_dir=\"./logs\",\n",
    "    eval_strategy=\"epoch\",\n",
    "    save_strategy=\"epoch\",\n",
    "    logging_strategy=\"epoch\",\n",
    "    per_device_train_batch_size=64,\n",
    "    per_device_eval_batch_size=64,\n",
    "    learning_rate=2e-5,\n",
    "    weight_decay=0.01,\n",
    "    num_train_epochs=10,\n",
    "    save_total_limit=2,\n",
    "    load_best_model_at_end=True,\n",
    "    metric_for_best_model=\"accuracy\",\n",
    "    fp16=True,\n",
    "    gradient_accumulation_steps=2,\n",
    ")"
   ]
  },
  {
   "cell_type": "code",
   "execution_count": 17,
   "id": "10a3c8b6",
   "metadata": {},
   "outputs": [],
   "source": [
    "accuracy = evaluate.load(\"accuracy\")\n",
    "\n",
    "def compute_metrics(eval_pred):\n",
    "    logits, labels = eval_pred\n",
    "    predictions = np.argmax(logits, axis=-1)\n",
    "    acc = accuracy_score(labels, predictions)\n",
    "    return {\"accuracy\": acc}"
   ]
  },
  {
   "cell_type": "markdown",
   "id": "8e1f9633",
   "metadata": {},
   "source": [
    "Przed treningiem zamrozimy również wszystkie parametry modelu nie odpowiadające za klasyfikację. W ten sposób trening będzie szybszy i skorzystamy z \"czystego\" dotrenowywania modelu bez zmieniania go w całości. Warstwy poolingowe również zostały odmrożone. Sumarycznie zatem dotrenujemy 4 ostatnie warstwy modelu."
   ]
  },
  {
   "cell_type": "code",
   "execution_count": 18,
   "id": "1605daf3",
   "metadata": {},
   "outputs": [],
   "source": [
    "# for name, param in model.base_model.named_parameters():\n",
    "#     param.requires_grad = False if \"pooler\" not in name else True\n",
    "\n",
    "# full fine-tuning\n",
    "for param in model.base_model.parameters():\n",
    "    param.requires_grad = True\n",
    "\n",
    "# for name, param in model.base_model.named_parameters():\n",
    "#     if any(f\"encoder.layer.{i}.\" in name for i in range(0, 4)):\n",
    "#         param.requires_grad = False"
   ]
  },
  {
   "cell_type": "code",
   "execution_count": 19,
   "id": "d8702288",
   "metadata": {},
   "outputs": [],
   "source": [
    "# model = PhiClassifier(base_model_id, num_labels=10).to(device)\n",
    "\n",
    "trainer = Trainer(\n",
    "    model=model,\n",
    "    args=training_args,\n",
    "    train_dataset=tokenized_train,\n",
    "    eval_dataset=tokenized_val,\n",
    "    processing_class=tokenizer,\n",
    "    data_collator=data_collator,\n",
    "    compute_metrics=compute_metrics,\n",
    "    callbacks=[EarlyStoppingCallback(early_stopping_patience=2)],\n",
    ")"
   ]
  },
  {
   "cell_type": "code",
   "execution_count": 20,
   "id": "92258ec9",
   "metadata": {},
   "outputs": [
    {
     "name": "stderr",
     "output_type": "stream",
     "text": [
      "\u001b[34m\u001b[1mwandb\u001b[0m: \u001b[33mWARNING\u001b[0m The `run_name` is currently set to the same value as `TrainingArguments.output_dir`. If this was not intended, please specify a different run name by setting the `TrainingArguments.run_name` parameter.\n",
      "\u001b[34m\u001b[1mwandb\u001b[0m: Using wandb-core as the SDK backend.  Please refer to https://wandb.me/wandb-core for more information.\n",
      "\u001b[34m\u001b[1mwandb\u001b[0m: Currently logged in as: \u001b[33mkraskoa\u001b[0m (\u001b[33mkraskoa-politechnika-warszawska\u001b[0m) to \u001b[32mhttps://api.wandb.ai\u001b[0m. Use \u001b[1m`wandb login --relogin`\u001b[0m to force relogin\n"
     ]
    },
    {
     "data": {
      "text/html": [
       "Tracking run with wandb version 0.19.8"
      ],
      "text/plain": [
       "<IPython.core.display.HTML object>"
      ]
     },
     "metadata": {},
     "output_type": "display_data"
    },
    {
     "data": {
      "text/html": [
       "Run data is saved locally in <code>/home/kraskoa/Templates/25L/LLM/llm_25l_projekt/wandb/run-20250529_195345-66rqpe23</code>"
      ],
      "text/plain": [
       "<IPython.core.display.HTML object>"
      ]
     },
     "metadata": {},
     "output_type": "display_data"
    },
    {
     "data": {
      "text/html": [
       "Syncing run <strong><a href='https://wandb.ai/kraskoa-politechnika-warszawska/huggingface/runs/66rqpe23' target=\"_blank\">./results</a></strong> to <a href='https://wandb.ai/kraskoa-politechnika-warszawska/huggingface' target=\"_blank\">Weights & Biases</a> (<a href='https://wandb.me/developer-guide' target=\"_blank\">docs</a>)<br>"
      ],
      "text/plain": [
       "<IPython.core.display.HTML object>"
      ]
     },
     "metadata": {},
     "output_type": "display_data"
    },
    {
     "data": {
      "text/html": [
       " View project at <a href='https://wandb.ai/kraskoa-politechnika-warszawska/huggingface' target=\"_blank\">https://wandb.ai/kraskoa-politechnika-warszawska/huggingface</a>"
      ],
      "text/plain": [
       "<IPython.core.display.HTML object>"
      ]
     },
     "metadata": {},
     "output_type": "display_data"
    },
    {
     "data": {
      "text/html": [
       " View run at <a href='https://wandb.ai/kraskoa-politechnika-warszawska/huggingface/runs/66rqpe23' target=\"_blank\">https://wandb.ai/kraskoa-politechnika-warszawska/huggingface/runs/66rqpe23</a>"
      ],
      "text/plain": [
       "<IPython.core.display.HTML object>"
      ]
     },
     "metadata": {},
     "output_type": "display_data"
    },
    {
     "data": {
      "text/html": [
       "\n",
       "    <div>\n",
       "      \n",
       "      <progress value='35000' max='87500' style='width:300px; height:20px; vertical-align: middle;'></progress>\n",
       "      [35000/87500 6:29:52 < 9:44:50, 1.50 it/s, Epoch 4/10]\n",
       "    </div>\n",
       "    <table border=\"1\" class=\"dataframe\">\n",
       "  <thead>\n",
       " <tr style=\"text-align: left;\">\n",
       "      <th>Epoch</th>\n",
       "      <th>Training Loss</th>\n",
       "      <th>Validation Loss</th>\n",
       "      <th>Accuracy</th>\n",
       "    </tr>\n",
       "  </thead>\n",
       "  <tbody>\n",
       "    <tr>\n",
       "      <td>1</td>\n",
       "      <td>0.801100</td>\n",
       "      <td>0.730793</td>\n",
       "      <td>0.759107</td>\n",
       "    </tr>\n",
       "    <tr>\n",
       "      <td>2</td>\n",
       "      <td>0.688800</td>\n",
       "      <td>0.724618</td>\n",
       "      <td>0.761564</td>\n",
       "    </tr>\n",
       "    <tr>\n",
       "      <td>3</td>\n",
       "      <td>0.620200</td>\n",
       "      <td>0.738295</td>\n",
       "      <td>0.760743</td>\n",
       "    </tr>\n",
       "    <tr>\n",
       "      <td>4</td>\n",
       "      <td>0.554400</td>\n",
       "      <td>0.769038</td>\n",
       "      <td>0.756957</td>\n",
       "    </tr>\n",
       "  </tbody>\n",
       "</table><p>"
      ],
      "text/plain": [
       "<IPython.core.display.HTML object>"
      ]
     },
     "metadata": {},
     "output_type": "display_data"
    },
    {
     "data": {
      "text/plain": [
       "TrainOutput(global_step=35000, training_loss=0.6661343610491072, metrics={'train_runtime': 23394.6744, 'train_samples_per_second': 478.741, 'train_steps_per_second': 3.74, 'total_flos': 2.9470554882048e+17, 'train_loss': 0.6661343610491072, 'epoch': 4.0})"
      ]
     },
     "execution_count": 20,
     "metadata": {},
     "output_type": "execute_result"
    }
   ],
   "source": [
    "trainer.train()"
   ]
  },
  {
   "cell_type": "markdown",
   "id": "cbe1116e",
   "metadata": {},
   "source": [
    "Teraz sprawdxmy osiągniętą dokładność na zbiorze testowym."
   ]
  },
  {
   "cell_type": "code",
   "execution_count": 21,
   "id": "4da207c5",
   "metadata": {},
   "outputs": [
    {
     "data": {
      "text/html": [],
      "text/plain": [
       "<IPython.core.display.HTML object>"
      ]
     },
     "metadata": {},
     "output_type": "display_data"
    },
    {
     "name": "stdout",
     "output_type": "stream",
     "text": [
      "Test accuracy: 0.7620\n"
     ]
    }
   ],
   "source": [
    "metrics = trainer.evaluate(tokenized_test)\n",
    "print(f\"Test accuracy: {metrics['eval_accuracy']:.4f}\")"
   ]
  },
  {
   "cell_type": "code",
   "execution_count": 22,
   "id": "e088507e",
   "metadata": {},
   "outputs": [],
   "source": [
    "trainer.save_model(\"bert-full-0frozen\")"
   ]
  },
  {
   "cell_type": "code",
   "execution_count": 7,
   "id": "ec4c80eb",
   "metadata": {},
   "outputs": [
    {
     "data": {
      "text/plain": [
       "BertForSequenceClassification(\n",
       "  (bert): BertModel(\n",
       "    (embeddings): BertEmbeddings(\n",
       "      (word_embeddings): Embedding(30522, 768, padding_idx=0)\n",
       "      (position_embeddings): Embedding(512, 768)\n",
       "      (token_type_embeddings): Embedding(2, 768)\n",
       "      (LayerNorm): LayerNorm((768,), eps=1e-12, elementwise_affine=True)\n",
       "      (dropout): Dropout(p=0.1, inplace=False)\n",
       "    )\n",
       "    (encoder): BertEncoder(\n",
       "      (layer): ModuleList(\n",
       "        (0-11): 12 x BertLayer(\n",
       "          (attention): BertAttention(\n",
       "            (self): BertSdpaSelfAttention(\n",
       "              (query): Linear(in_features=768, out_features=768, bias=True)\n",
       "              (key): Linear(in_features=768, out_features=768, bias=True)\n",
       "              (value): Linear(in_features=768, out_features=768, bias=True)\n",
       "              (dropout): Dropout(p=0.1, inplace=False)\n",
       "            )\n",
       "            (output): BertSelfOutput(\n",
       "              (dense): Linear(in_features=768, out_features=768, bias=True)\n",
       "              (LayerNorm): LayerNorm((768,), eps=1e-12, elementwise_affine=True)\n",
       "              (dropout): Dropout(p=0.1, inplace=False)\n",
       "            )\n",
       "          )\n",
       "          (intermediate): BertIntermediate(\n",
       "            (dense): Linear(in_features=768, out_features=3072, bias=True)\n",
       "            (intermediate_act_fn): GELUActivation()\n",
       "          )\n",
       "          (output): BertOutput(\n",
       "            (dense): Linear(in_features=3072, out_features=768, bias=True)\n",
       "            (LayerNorm): LayerNorm((768,), eps=1e-12, elementwise_affine=True)\n",
       "            (dropout): Dropout(p=0.1, inplace=False)\n",
       "          )\n",
       "        )\n",
       "      )\n",
       "    )\n",
       "    (pooler): BertPooler(\n",
       "      (dense): Linear(in_features=768, out_features=768, bias=True)\n",
       "      (activation): Tanh()\n",
       "    )\n",
       "  )\n",
       "  (dropout): Dropout(p=0.1, inplace=False)\n",
       "  (classifier): Linear(in_features=768, out_features=10, bias=True)\n",
       ")"
      ]
     },
     "execution_count": 7,
     "metadata": {},
     "output_type": "execute_result"
    }
   ],
   "source": [
    "model = AutoModelForSequenceClassification.from_pretrained(\"bert-full-0frozen\")\n",
    "model.to(device)"
   ]
  },
  {
   "cell_type": "code",
   "execution_count": 9,
   "id": "3133c926",
   "metadata": {},
   "outputs": [
    {
     "ename": "AttributeError",
     "evalue": "'BertForSequenceClassification' object has no attribute 'predict'",
     "output_type": "error",
     "traceback": [
      "\u001b[0;31m---------------------------------------------------------------------------\u001b[0m",
      "\u001b[0;31mAttributeError\u001b[0m                            Traceback (most recent call last)",
      "Cell \u001b[0;32mIn[9], line 3\u001b[0m\n\u001b[1;32m      1\u001b[0m \u001b[38;5;66;03m# confusion matrix\u001b[39;00m\n\u001b[1;32m      2\u001b[0m \u001b[38;5;66;03m# preds = trainer.predict(tokenized_test)\u001b[39;00m\n\u001b[0;32m----> 3\u001b[0m preds \u001b[38;5;241m=\u001b[39m \u001b[43mmodel\u001b[49m\u001b[38;5;241;43m.\u001b[39;49m\u001b[43mpredict\u001b[49m(tokenized_test)\n\u001b[1;32m      4\u001b[0m y_true \u001b[38;5;241m=\u001b[39m preds\u001b[38;5;241m.\u001b[39mlabel_ids\n\u001b[1;32m      5\u001b[0m y_pred \u001b[38;5;241m=\u001b[39m preds\u001b[38;5;241m.\u001b[39mpredictions\u001b[38;5;241m.\u001b[39margmax(axis\u001b[38;5;241m=\u001b[39m\u001b[38;5;241m-\u001b[39m\u001b[38;5;241m1\u001b[39m)\n",
      "File \u001b[0;32m~/Templates/25L/LLM/.venv/lib/python3.10/site-packages/torch/nn/modules/module.py:1928\u001b[0m, in \u001b[0;36mModule.__getattr__\u001b[0;34m(self, name)\u001b[0m\n\u001b[1;32m   1926\u001b[0m     \u001b[38;5;28;01mif\u001b[39;00m name \u001b[38;5;129;01min\u001b[39;00m modules:\n\u001b[1;32m   1927\u001b[0m         \u001b[38;5;28;01mreturn\u001b[39;00m modules[name]\n\u001b[0;32m-> 1928\u001b[0m \u001b[38;5;28;01mraise\u001b[39;00m \u001b[38;5;167;01mAttributeError\u001b[39;00m(\n\u001b[1;32m   1929\u001b[0m     \u001b[38;5;124mf\u001b[39m\u001b[38;5;124m\"\u001b[39m\u001b[38;5;124m'\u001b[39m\u001b[38;5;132;01m{\u001b[39;00m\u001b[38;5;28mtype\u001b[39m(\u001b[38;5;28mself\u001b[39m)\u001b[38;5;241m.\u001b[39m\u001b[38;5;18m__name__\u001b[39m\u001b[38;5;132;01m}\u001b[39;00m\u001b[38;5;124m'\u001b[39m\u001b[38;5;124m object has no attribute \u001b[39m\u001b[38;5;124m'\u001b[39m\u001b[38;5;132;01m{\u001b[39;00mname\u001b[38;5;132;01m}\u001b[39;00m\u001b[38;5;124m'\u001b[39m\u001b[38;5;124m\"\u001b[39m\n\u001b[1;32m   1930\u001b[0m )\n",
      "\u001b[0;31mAttributeError\u001b[0m: 'BertForSequenceClassification' object has no attribute 'predict'"
     ]
    }
   ],
   "source": [
    "# confusion matrix\n",
    "# preds = trainer.predict(tokenized_test)\n",
    "preds = model.predict(tokenized_test)\n",
    "y_true = preds.label_ids\n",
    "y_pred = preds.predictions.argmax(axis=-1)\n",
    "\n",
    "cm = confusion_matrix(y_true, y_pred)\n",
    "disp = ConfusionMatrixDisplay(confusion_matrix=cm, display_labels=label_names)\n",
    "\n",
    "fig, ax = plt.subplots(figsize=(10,10))\n",
    "disp.plot(xticks_rotation=90, ax=ax, cmap=\"Blues\")\n",
    "plt.title(\"Confusion matrix\")\n",
    "plt.show()"
   ]
  }
 ],
 "metadata": {
  "kernelspec": {
   "display_name": ".venv",
   "language": "python",
   "name": "python3"
  },
  "language_info": {
   "codemirror_mode": {
    "name": "ipython",
    "version": 3
   },
   "file_extension": ".py",
   "mimetype": "text/x-python",
   "name": "python",
   "nbconvert_exporter": "python",
   "pygments_lexer": "ipython3",
   "version": "3.10.15"
  }
 },
 "nbformat": 4,
 "nbformat_minor": 5
}
